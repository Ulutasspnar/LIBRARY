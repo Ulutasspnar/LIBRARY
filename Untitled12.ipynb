{
  "nbformat": 4,
  "nbformat_minor": 0,
  "metadata": {
    "colab": {
      "provenance": []
    },
    "kernelspec": {
      "name": "python3",
      "display_name": "Python 3"
    },
    "language_info": {
      "name": "python"
    }
  },
  "cells": [
    {
      "cell_type": "code",
      "execution_count": 2,
      "metadata": {
        "colab": {
          "base_uri": "https://localhost:8080/"
        },
        "id": "bmsCxsB14qF_",
        "outputId": "971dd8f6-aa09-4d93-83fa-3341367740e5"
      },
      "outputs": [
        {
          "output_type": "stream",
          "name": "stdout",
          "text": [
            "* MENU *\n",
            "1) List Books\n",
            "2) Add Book\n",
            "3) Remove Book\n",
            "4) Exit\n",
            "Enter your choice: 1\n",
            "* MENU *\n",
            "1) List Books\n",
            "2) Add Book\n",
            "3) Remove Book\n",
            "4) Exit\n",
            "Enter your choice: 2\n",
            "Enter the book title: 3\n",
            "Enter the author's name: ahmet\n",
            "Enter the first release year: 1995\n",
            "Enter the number of pages: 250\n",
            "* MENU *\n",
            "1) List Books\n",
            "2) Add Book\n",
            "3) Remove Book\n",
            "4) Exit\n",
            "Enter your choice: 1\n",
            "Title: 3, Author: ahmet\n",
            "* MENU *\n",
            "1) List Books\n",
            "2) Add Book\n",
            "3) Remove Book\n",
            "4) Exit\n",
            "Enter your choice: 4\n",
            "Exiting the program.\n"
          ]
        }
      ],
      "source": [
        "class Library:\n",
        "    def __init__(self):\n",
        "        # Open the books.txt file in append and read mode. This will create the file if it doesn't exist.\n",
        "        self.file = open('books.txt', 'a+')\n",
        "\n",
        "    def __del__(self):\n",
        "        # Close the books.txt file when the Library object is deleted.\n",
        "        self.file.close()\n",
        "\n",
        "    def list_books(self):\n",
        "        self.file.seek(0)  # Move cursor to the start of the file\n",
        "        lines = self.file.read().splitlines()\n",
        "        for line in lines:\n",
        "            book_info = line.split(',')\n",
        "            print(f\"Title: {book_info[0]}, Author: {book_info[1]}\")\n",
        "\n",
        "    def add_book(self):\n",
        "        title = input(\"Enter the book title: \")\n",
        "        author = input(\"Enter the author's name: \")\n",
        "        release_year = input(\"Enter the first release year: \")\n",
        "        pages = input(\"Enter the number of pages: \")\n",
        "        self.file.write(f\"{title},{author},{release_year},{pages}\\n\")\n",
        "        self.file.flush()  # Ensures that the written content is saved to the file\n",
        "\n",
        "    def remove_book(self):\n",
        "        title_to_remove = input(\"Enter the title of the book to remove: \")\n",
        "        self.file.seek(0)\n",
        "        lines = self.file.read().splitlines()\n",
        "        self.file.seek(0)\n",
        "        self.file.truncate()  # Clear\n",
        "\n",
        "        for line in lines:\n",
        "            if not line.startswith(title_to_remove):\n",
        "                self.file.write(line + '\\n')\n",
        "        self.file.flush()\n",
        "\n",
        "# Create an instance of the Library class\n",
        "lib = Library()\n",
        "\n",
        "# Menu for interacting with the library system\n",
        "while True:\n",
        "    print(\"* MENU *\")\n",
        "    print(\"1) List Books\")\n",
        "    print(\"2) Add Book\")\n",
        "    print(\"3) Remove Book\")\n",
        "    print(\"4) Exit\")\n",
        "\n",
        "    choice = input(\"Enter your choice: \")\n",
        "\n",
        "    if choice == \"1\":\n",
        "        lib.list_books()\n",
        "    elif choice == \"2\":\n",
        "        lib.add_book()\n",
        "    elif choice == \"3\":\n",
        "        lib.remove_book()\n",
        "    elif choice == \"4\":\n",
        "        print(\"Exiting the program.\")\n",
        "        break\n",
        "    else:\n",
        "        print(\"Invalid choice. Please try again.\")\n",
        "\n"
      ]
    }
  ]
}